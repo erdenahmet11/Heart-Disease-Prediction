{
 "cells": [
  {
   "cell_type": "markdown",
   "id": "0d25d112",
   "metadata": {},
   "source": [
    "# Heart Disease Prediction \n",
    "### Team Members\n",
    "Ahmet Erden  - erden18@itu.edu.tr  - 090190743<br>\n",
    "Samet Saydam - saydam18@itu.edu.tr - 090210726<br>\n",
    "Utku Sert    - sertu18@itu.edu.tr  - 090210729<br>\n",
    "### Dataset\n",
    "[Dataset Link](https://ieee-dataport.org/open-access/heart-disease-dataset-comprehensive#9)<br>\n",
    "This heart disease dataset is result of combination of five popular heart disease dataset(Cleveland, Hungarian, Switzerland, Long Beach VA, Statlog (Heart)) over 11 common attributes.<br>\n",
    "1-Age (Numeric)<br>\n",
    "2-Sex (Binary)<br>\n",
    "3-Chest Pain Type (Nominal)<br> \n",
    "    There is various chest pain types. In our dataset, there are 4 types:<br>\n",
    "        Typical angina, atypical angina, non-anginal pain, asymptomatic.<br>\n",
    "4-Resting Blood Pressure (Numeric)  \n",
    "5-Serum Cholesterol (Numeric)<br>\n",
    "6-Fasting Blood Sugar (Binary)<br>\n",
    "    If fasting blood sugar greater than 120 mg/dl, its corresponding boolean value is 1.<br>\n",
    "7-Resting Electrocardiogram Results (Nominal)<br>\n",
    "        It can be normal, having ST-T wave abnormality or having probable or definite left ventricular hypertrophy by       Estes' criteria<br>\n",
    "8-Maximum Heart Rate Achieved (Numeric)<br>\n",
    "9-Exercise Induced Angina (Binary)<br>\n",
    "10-Oldpeak = ST (Numeric)<br>\n",
    "11-The Slope of The Peak Exercise ST Segment (Nominal)<br>\n",
    "    It can be upsloping, flat or downsloping<br>\n",
    "### Questions to Ask to Dataset\n",
    "How many people have heart disease ?<br>\n",
    "People of which sex has most heart disease ?<br>\n",
    "Are there any relations between attributes ? If there are, which attributes are related most ?<br>\n",
    "Which attribures are negatively correlated ? <br>\n",
    "### Hypothesis\n",
    "We will try to accurately predict whether there is heart disease using machine learning using the attributes in the dataset.\n",
    "### Experiments, Methods, Algorithms and Expected Results\n",
    "We will try to use logistic regression, KNN and SVM models. We are expecting that the logistic regression model is to be most accurate model. We expect this algorithm to be further developed in the future to more accurately diagnose heart disease.\n",
    "### Team Member's Roles\n",
    "All team members researched the dataset and topic, by discussing these datasets, heart disease dataset was chosen by consensus. Proposal was prepared together.<br>\n",
    "Literature review and research will be done by each member.<br>\n",
    "Ahmet Erden will try to use SVM model for the problem.<br>\n",
    "Samet Saydam will try to use logistic regression model for the problem.<br>\n",
    "Utku Sert will try to use KNN model for the problem.<br>\n",
    "Role sharing will be decided according to the progress of the project."
    "Utku Sert"
   ]
  },
  {
   "cell_type": "markdown",
   "id": "438a6bdf-f510-4d6e-bdb2-763c5a9b1706",
   "metadata": {},
   "source": [
    "## Atabey's notes\n",
    "\n",
    "This is not a proposal. It looks like a first draft written in 10 minutes. Unacceptable!!\n",
    "\n",
    "The questions you are asking are too simple (The code can be written less than 10 minutes from scratch, might be longer if cut/pasted from internet). Come up with better questions and hypotheses. With that also think of available ML algorithms to test your questions and hypotheses. Which algorithms are suitable? Which ones are you going to choose? Why? How are they going to solve/answer your questions? What do you expect? Which tests are you going to use? WHat happens if your experiments fail? Do you have alternative hypotheses and questions?\n",
    "\n",
    "Also, your calendar and divison of labor needs more work. \n",
    "\n",
    "Submit something that has some work and thought put in. As it is, it looks like a preschooler wrote it."
   ]
  },
  {
   "cell_type": "code",
   "execution_count": null,
   "id": "9079d873",
   "metadata": {},
   "outputs": [],
   "source": []
  }
 ],
 "metadata": {
  "kernelspec": {
   "display_name": "Python 3 (ipykernel)",
   "language": "python",
   "name": "python3"
  },
  "language_info": {
   "codemirror_mode": {
    "name": "ipython",
    "version": 3
   },
   "file_extension": ".py",
   "mimetype": "text/x-python",
   "name": "python",
   "nbconvert_exporter": "python",
   "pygments_lexer": "ipython3",
   "version": "3.10.8"
  }
 },
 "nbformat": 4,
 "nbformat_minor": 5
}

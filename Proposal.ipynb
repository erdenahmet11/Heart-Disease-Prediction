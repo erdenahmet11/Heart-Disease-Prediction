{
 "cells": [
  {
   "cell_type": "markdown",
   "id": "0d25d112",
   "metadata": {},
   "source": [
    "# Heart Disease Prediction \n",
    "## Team Members\n",
    "Ahmet Erden  - erden18@itu.edu.tr  - 090190743<br>\n",
    "Samet Saydam - saydam18@itu.edu.tr - 090210726<br>\n",
    "Utku Sert    - sertu18@itu.edu.tr  - 090210729<br>\n",
    "## Dataset\n",
    "[Dataset Link](https://ieee-dataport.org/open-access/heart-disease-dataset-comprehensive#9)<br>\n",
    "This heart disease dataset is result of combination of five popular heart disease dataset(Cleveland, Hungarian, Switzerland, Long Beach VA, Statlog (Heart)) over 11 common attributes.<br>\n",
    "1-Age (Numeric)<br>\n",
    "2-Sex (Binary)<br>\n",
    "3-Chest Pain Type (Nominal)<br> \n",
    "    There is various chest pain types. In our dataset, there are 4 types:<br>\n",
    "        Typical angina, atypical angina, non-anginal pain, asymptomatic.<br>\n",
    "4-Resting Blood Pressure (Numeric)  \n",
    "5-Serum Cholesterol (Numeric)<br>\n",
    "6-Fasting Blood Sugar (Binary)<br>\n",
    "    If fasting blood sugar greater than 120 mg/dl, its corresponding boolean value is 1.<br>\n",
    "7-Resting Electrocardiogram Results (Nominal)<br>\n",
    "        It can be normal, having ST-T wave abnormality or having probable or definite left ventricular hypertrophy by       Estes' criteria<br>\n",
    "8-Maximum Heart Rate Achieved (Numeric)<br>\n",
    "9-Exercise Induced Angina (Binary)<br>\n",
    "10-Oldpeak = ST (Numeric)<br>\n",
    "11-The Slope of The Peak Exercise ST Segment (Nominal)<br>\n",
    "    It can be upsloping, flat or downsloping<br>\n",
    "## Description of the Problem\n",
    "Thanks to advancing technology, the use of machine learning in the healthcare industry is becoming increasingly popular to assist doctors in making diagnoses.Machine learning plays an important role in diagnosing diseases such as cancer, diabetes and heart diseases. Heart diseases are the leading cause of death in the world, we will examine people at risk by determining which symptoms in people are more related to heart disease. Then, with machine learning algorithms, we will try to predict whether the person has a heart disease depending on the symptoms in the dataset. According to our research, many machine learning algorithms have been tried from past to present in the diagnosis of heart disease and artificial neural networks give the most accurate results. In this project, we will analyze the data in the best way and compare which algorithm gives the most accurate model by using the machine learning algorithms we have learned in this lecture. Since this is a binary classification problem, we will try to use Logistic Regression, KNN, SVM and Random Forest algorithms and compare the accuracy of these algorithms. As a result of this comparison, we aim to obtain a result close to the most accurate models obtained with artificial neural networks in the past. If we cannot obtain a model with sufficient success from these algorithms, we hope that what we will study in the 12th week will be our alternative solution in reaching our goal. After deciding on the most successful model, we will try to identify people with heart disease with this model.<br>\n",
    "![alt text](model_comparison.jpg \"Model Comparison\")<br>\n",
    "[1]\n",
    "## Project Planing\n",
    "### Project Pieces and Calendar\n",
    "#### 07.11.2022-02.12.2022 Literature Review and Data Acquisition | Each of Team Members \n",
    "Dataset and problem research <br>\n",
    "Determine the problem and obtaining the appropriate dataset <br>\n",
    "Researching other project related to the problem <br>\n",
    "Preparing the proposal <br>\n",
    "#### 05.12.2022-09.12.2022 Data Cleaning and Visualizing | Samet Saydam\n",
    "Preparing data for the model <br>\n",
    "Encoding categorical variables <br>\n",
    "Plotting attributes in the dataset <br>\n",
    "#### 10.12.2022-17.12.2022 Exploratory Data Analysis and Model Construction \n",
    "Exploratory data analysis | Ahmet Erden <br>\n",
    "Constructing Logistic Regression model | Utku Sert <br>\n",
    "Constructing KNN model | Samet Saydam <br>\n",
    "Constructing SVM model | Ahmet Erden <br>\n",
    "Constructing Random Forest model | Utku Sert <br>\n",
    "#### 18.12.2022-22.12.2022 Model Evaluation | Together\n",
    "Evaluating the each of the models <br>\n",
    "Model optimization <br>\n",
    "Model comparison <br>\n",
    "Deciding the best model <br>\n",
    "#### 23.12.2022-27.12.2022  Alternative Model (Optional) | Together\n",
    "If we need to use artificial neural network, constructing and evaluting model <br>\n",
    "#### 28.12.2022-31.12.2022 Project Submission\n",
    "Final checks and editing of the project <br>\n",
    "Submission <br>\n",
    "### Hardware and Software\n",
    "Ahmet Erden - ASUS ROG Strix G531 GT <br>\n",
    "Utku Sert - Apple Macbook Air | 2020 M1 <br>\n",
    "Samet Saydam - ASUS X571GT-AL136X <br>\n",
    "We will use Jupyter Notebook, Python 3 and its needed libraries such as Numpy, Pandas, Scikit Learn, Matplotlib, Tensorflow (if we need).<br>\n",
    "### References \n",
    "[1] Karadağ Ş., Duru M., Yıldız Ş., <i>  Heart Disease Detection Using Artifical Neural Network </i>\n",
    " \n"
   ]
  },
  {
   "cell_type": "markdown",
   "id": "6e64a4ef",
   "metadata": {},
   "source": [
    "## Atabey's notes\n",
    "   \n",
    "   This is not a proposal. It looks like a first draft written in 10 minutes. Unacceptable!!,\n",
    "    The questions you are asking are too simple (The code can be written less than 10 minutes from scratch, might be longer if cut/pasted from internet). Come up with better questions and hypotheses. With that also think of available ML algorithms to test your questions and hypotheses. Which algorithms are suitable? Which ones are you going to choose? Why? How are they going to solve/answer your questions? What do you expect? Which tests are you going to use? WHat happens if your experiments fail? Do you have alternative hypotheses and questions?,\n",
    "    \n",
    "   Also, your calendar and divison of labor needs more work. ,\n",
    "    \n",
    "   Submit something that has some work and thought put in. As it is, it looks like a preschooler wrote it."
   ]
  },
  {
   "cell_type": "code",
   "execution_count": null,
   "id": "1468d59a",
   "metadata": {},
   "outputs": [],
   "source": []
  }
 ],
 "metadata": {
  "kernelspec": {
   "display_name": "Python 3 (ipykernel)",
   "language": "python",
   "name": "python3"
  },
  "language_info": {
   "codemirror_mode": {
    "name": "ipython",
    "version": 3
   },
   "file_extension": ".py",
   "mimetype": "text/x-python",
   "name": "python",
   "nbconvert_exporter": "python",
   "pygments_lexer": "ipython3",
   "version": "3.10.8"
  }
 },
 "nbformat": 4,
 "nbformat_minor": 5
}
